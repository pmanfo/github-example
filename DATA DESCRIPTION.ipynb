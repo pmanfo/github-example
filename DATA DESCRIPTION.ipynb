{
 "cells": [
  {
   "cell_type": "markdown",
   "metadata": {
    "collapsed": true
   },
   "source": [
    "# Capstone Project - The Battle of Neighborhoods (Week 1)"
   ]
  },
  {
   "cell_type": "markdown",
   "metadata": {},
   "source": [
    "## Following are the links to data used for  each city analisis\n",
    "\n",
    "\n",
    "\n",
    "### problem 1 Cities anlysis\n",
    "\n",
    "   **1.1-NYC(new york city)**\n",
    "      *all data where provided*\n",
    "             link_to_data_set:https://cocl.us/new_york_dataset\n",
    "             \n",
    "   *From this link data are download ,loded usind python api pandas ,process and transform into usable data format.\n",
    "     The foursquare API  is then used to generate the final data set including geografical  coordinate of each neighbouhood.Thinal data set in the generated (Data frame including geographical coordinates of each neighborhood*\n",
    "     \n",
    "\n",
    "\n",
    "   **1.2-Toronto**\n",
    "         links_To_data_set:\n",
    "            -https://en.wikipedia.org/wiki/List_of_postal_codes_of_Canada:_M\n",
    "            -http://cocl.us/Geospatial_data\n",
    "            \n",
    "        \n",
    "   *From this link data are download ,loded usind python api pandas ,process and transform into usable data format.\n",
    "     The foursquare API  is then used to generate the final data set including geografical  coordinate of each neighbouhood.Thinal data set in the generated (Data frame including geographical coordinates of each neighborhood.*\n",
    "     \n",
    "   **1.3   Paris**\n",
    "        links_to_data_sets:\n",
    "            https://fr.wikipedia.org/wiki/Liste_des_quartiers_administratifs_de_Paris\n",
    "            [https://opendata.paris.fr/explore/dataset/quartier_paris/download/?format=csv&timezone=Europe/Berlin&use_labels_for_header=true&csv_separator=%3B]\n",
    "        \n",
    "   *From this link data are download ,loded usind python api pandas ,process and transform into usable data format.\n",
    "     The foursquare API  is then used to generate the final data set including geografical  coordinate of each neighbouhood.Thinal data set in the generated (Data frame including geographical coordinates of each neighborhood*\n",
    "     \n",
    "\n",
    "\n",
    "### Problem 2 (venue sugestion for ristaurant investment)\n",
    "\n",
    "   *data set used here is the results of the data collected and transform (using python and foursquere api) into strutured and usable data format in the previous section*\n"
   ]
  },
  {
   "cell_type": "code",
   "execution_count": null,
   "metadata": {},
   "outputs": [],
   "source": []
  }
 ],
 "metadata": {
  "kernelspec": {
   "display_name": "Python 3.6",
   "language": "python",
   "name": "python3"
  },
  "language_info": {
   "codemirror_mode": {
    "name": "ipython",
    "version": 3
   },
   "file_extension": ".py",
   "mimetype": "text/x-python",
   "name": "python",
   "nbconvert_exporter": "python",
   "pygments_lexer": "ipython3",
   "version": "3.6.9"
  }
 },
 "nbformat": 4,
 "nbformat_minor": 1
}
