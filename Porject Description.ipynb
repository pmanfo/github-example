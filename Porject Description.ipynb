{
 "cells": [
  {
   "cell_type": "markdown",
   "metadata": {
    "collapsed": true
   },
   "source": [
    "# Capstone Project - The Battle of Neighborhoods (Week 1)\n"
   ]
  },
  {
   "cell_type": "markdown",
   "metadata": {},
   "source": [
    "## Project Description:"
   ]
  },
  {
   "cell_type": "markdown",
   "metadata": {},
   "source": [
    "### An investor want to invest on a Restaurant.He is particulary interested in investing either in Toronto or in Paris.So he would like a deep study about these two city .The investor would like to know which of these two cities it the most similar to Newyork city to invest there.He would also like to know which venue in this city is the best place to invest.\n",
    "\n",
    "\n",
    "  **The problem as set consists in analyzing the cities NEW YORK CITY, Toronto And Paris.**\n",
    "\n",
    "  **More precisely ,the problem is about :**\n",
    "\n",
    "     1-Analyzing all the  places of the different neighborhood of all borough in  each of these cities in order to find the similarities between them base on data collected using data anlysis tools ,here is  python and external API such as foursquar.\n",
    "\n",
    "     2-Using the results obtained from the previous  analysis to suggest a suitable location to an investor  willing to create a restaurant."
   ]
  }
 ],
 "metadata": {
  "kernelspec": {
   "display_name": "Python 3.6",
   "language": "python",
   "name": "python3"
  },
  "language_info": {
   "codemirror_mode": {
    "name": "ipython",
    "version": 3
   },
   "file_extension": ".py",
   "mimetype": "text/x-python",
   "name": "python",
   "nbconvert_exporter": "python",
   "pygments_lexer": "ipython3",
   "version": "3.6.9"
  }
 },
 "nbformat": 4,
 "nbformat_minor": 1
}
